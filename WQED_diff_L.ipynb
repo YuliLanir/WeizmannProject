{
 "cells": [
  {
   "cell_type": "code",
   "execution_count": 1,
   "outputs": [],
   "source": [
    "# imports\n",
    "import matplotlib.pyplot as plt\n",
    "from os import path\n",
    "import numpy as np\n",
    "import scipy\n",
    "import scipy.signal\n",
    "from qutip import *\n",
    "from helper_function_new import *\n",
    "#from helper_function_L import *\n",
    "\n"
   ],
   "metadata": {
    "collapsed": false,
    "pycharm": {
     "name": "#%%\n"
    }
   }
  },
  {
   "cell_type": "code",
   "execution_count": 2,
   "metadata": {
    "collapsed": true,
    "pycharm": {
     "name": "#%%\n"
    }
   },
   "outputs": [],
   "source": [
    "##########################################################################\n",
    "# in previous simulations, we ommited the lengths between the mirror and the qubits,\n",
    "# and its affect on the system\n",
    "# we want to see the effect of L (length of waveguide) on the simulation\n",
    "#question:\n",
    "# if we excite the qubits from the waveguide - is the phase created between the mirror and\n",
    "# the qubit relevant? if not, do we ignore d_r in zm?\n",
    "##########################################################################\n",
    "\n",
    "# parameters\n",
    "N = 6 # number of transmons in the model\n",
    "c_light = 3E-1 #  0.3 m/ns\n",
    "d = 3E-4 # 0.3 mm = 0.0003 m\n",
    "eps = 6.5 # for silicon\n",
    "L = 0.015 #15 mm\n",
    "\n",
    "omega0 = 6 * (2*np.pi) # omega0 ~ 6 GHz\n",
    "gamma0 = 0.03 * (2*np.pi) # gamma_1D ~ 30 MHz\n",
    "\n",
    "omega,gamma = err_val_omega(0, omega0, gamma0, N, d,)\n",
    "phi0 = np.round(omega0*d*np.sqrt(eps)/c_light,5) # phi ~ 0.1\n",
    "k = np.round(omega0*np.sqrt(eps)/c_light,5) # phi = k*d\n",
    "\n",
    "\n",
    "alpha = -0.25 * (2*np.pi) # 200 MHz\n",
    "q_dim = 2 # Use only first two transmon levels\n",
    "r_cavity = -0.99 # cavity/mirror reflection coefficient\n"
   ]
  },
  {
   "cell_type": "code",
   "execution_count": null,
   "outputs": [],
   "source": [
    "#########################################################################################################################################################\n",
    "### Add driving: excitation of the desired two-excitation eigenstate.\n",
    "### Plot probability of exciting desired two-excitation eigenstate as function of driving frequency for the case of driving via waveguide\n",
    "#########################################################################################################################################################\n",
    "\n",
    "w1_list = np.linspace(-1,1,81) # epsilon/gamma_{1D} in the range of [-1,1]\n",
    "gamma0 = 0.005*omega0\n",
    "Delta = 20*(gamma0/(2*np.pi)) # large detunning (Delta/2)/gamma = 10\n",
    "E0 = 0.2*gamma0/(2*np.pi) # Pulse amplitude\n",
    "q_dim = 2 # consider only two transmon levels\n",
    "psi_init = tensor([basis(q_dim,0)]*N) # initial state of 6 transmons in ground state\n",
    "tlist = np.linspace(0,15000,800)/(2*np.pi)\n",
    "col_ops = [] # collapse operator represent here decay to enviorment, not to the waveguide\n",
    "exp_ops = [] # don't include expectation value operators, calculate based on density matrix\n",
    "\n",
    "P1state = [] # to hold probabilities of the state we are interested in\n",
    "Ptots = [] # to hold total probability of two-excitation states\n",
    "\n",
    "\n",
    "# N-dim sigma+ and sigma- operators for excitation through the waveguide - Em = e^(i*phi*m) + r*e^(i*phi*N)*e^(-i*k*zm)\n",
    "Hwgexc_plus = construct_wg_driving_operator_L_plus(N, k, r_cavity, L, d, q_dim)\n",
    "Hwgexc_minus = construct_wg_driving_operator_L_minus(N, k, r_cavity, L, d, q_dim)\n",
    "\n",
    "H0 = construct_full_H(6,omega,d,gamma,-0.99)\n",
    "evals_2exc,evecs_2exc = get_2excitations_states(N,H0,q_dim) # find two-excitation eigenstates\n",
    "\n",
    "for wi in w1_list:\n",
    "\n",
    "    args_exc = {'E':E0,'eps0':omega0/(2*np.pi)+wi*(gamma0/(2*np.pi)),'Delta0':Delta}# arguments for the exponent function describing qubit excitation\n",
    "\n",
    "    # excitation through the waveguide\n",
    "    Htot = [H0,[Hwgexc_plus,exc_f_plus],[Hwgexc_minus,exc_f_minus]]\n",
    "    result = mesolve(Htot,psi_init,tlist,col_ops,exp_ops,args=args_exc)\n",
    "    rho = result.states[-1]*result.states[-1].dag() # define density matrix rho\n",
    "    P1state.append((rho*construct_2excitation_creation_operator(evecs_2exc[9],N,q_dim)*construct_2excitation_creation_operator(evecs_2exc[9],N,q_dim).dag()).tr())\n",
    "\n",
    "    Ptot = 0\n",
    "    for v in evecs_2exc:\n",
    "        Ptot = Ptot + (rho*construct_2excitation_creation_operator(v,N,q_dim)*construct_2excitation_creation_operator(v,N,q_dim).dag()).tr()\n",
    "    Ptots.append(Ptot)\n",
    "\n",
    "plt.plot(w1_list, P1state,'b', label=r\"$P_{state 10}$\")\n",
    "plt.plot(w1_list, Ptots,'r', label=r\"$P_{tot}$\")\n",
    "\n",
    "plt.set_yscale('log')\n",
    "plt.set_xlabel(r'$Re ~\\left(\\epsilon - \\omega_{0} \\right) / \\gamma_{1D}$')\n",
    "plt.set_ylabel('Excitation probability')\n",
    "plt.set_title(r'N = 6, $\\phi$ = 0.1, r = 0.99$e^{iN\\phi}$ - excitation through waveguide')\n",
    "\n",
    "plt.legend()\n"
   ],
   "metadata": {
    "collapsed": false,
    "pycharm": {
     "name": "#%%\n",
     "is_executing": true
    }
   }
  },
  {
   "cell_type": "code",
   "execution_count": null,
   "outputs": [],
   "source": [],
   "metadata": {
    "collapsed": false,
    "pycharm": {
     "name": "#%%\n",
     "is_executing": true
    }
   }
  }
 ],
 "metadata": {
  "kernelspec": {
   "display_name": "Python 3",
   "language": "python",
   "name": "python3"
  },
  "language_info": {
   "codemirror_mode": {
    "name": "ipython",
    "version": 2
   },
   "file_extension": ".py",
   "mimetype": "text/x-python",
   "name": "python",
   "nbconvert_exporter": "python",
   "pygments_lexer": "ipython2",
   "version": "2.7.6"
  }
 },
 "nbformat": 4,
 "nbformat_minor": 0
}